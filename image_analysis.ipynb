{
 "cells": [
  {
   "cell_type": "markdown",
   "metadata": {},
   "source": [
    "## Image Analysis\n",
    "\n",
    "In summer, beaches are monitored by lifeguards, who gather information about the occupancy, sea\n",
    "state, wind, etc. Image processing techniques can be used to automate this task. In this project, we will\n",
    "estimate the amount of people present in a beach (in computer vision, “crowd counting”), focusing on\n",
    "all aspects of an image processing project: data annotation, algorithm design and implementation, and\n",
    "validation."
   ]
  },
  {
   "cell_type": "markdown",
   "metadata": {},
   "source": [
    "### Import useful libraries and files"
   ]
  },
  {
   "cell_type": "code",
   "execution_count": null,
   "metadata": {
    "scrolled": false
   },
   "outputs": [],
   "source": [
    "import cv2\n",
    "import math\n",
    "import numpy as np\n",
    "import pandas as pd\n",
    "import matplotlib.pyplot as plt\n",
    "import imutils\n",
    "import os\n",
    "from sklearn.metrics import mean_squared_error, precision_score\n",
    "\n",
    "\n",
    "\n",
    "path = \"/Users/amarachianyim/Documents/EDISS/UIB/1st_SEM/Image_and _Video_Analysis/Anyim/\"\n",
    "results = path+'results/'\n",
    "#read annotations and select the useful columns (label, (x,y) cordinates of the points, and filename)\n",
    "df = pd.read_csv(path+'labels_image_analysis.csv', header=None, usecols=[0,1,2,3], names=['label', 'x', 'y', 'filename'])\n",
    "#summarizes the number of people in each image\n",
    "ground_truth = df.groupby('filename').size().reset_index(name='people')\n",
    "\n",
    "df.head(10), ground_truth"
   ]
  },
  {
   "cell_type": "markdown",
   "metadata": {},
   "source": [
    "### Define functions to be used in the algorithm"
   ]
  },
  {
   "cell_type": "code",
   "execution_count": null,
   "metadata": {},
   "outputs": [],
   "source": [
    "def get_region_of_interest(image):\n",
    "    height, width = image.shape[:2]\n",
    "    ROI= np.array([[(0,height),(0,450),(1920,450),(1920,height)]], dtype= np.int32)\n",
    "    blank= np.zeros_like(image)\n",
    "    region_of_interest= cv2.fillPoly(blank, ROI,255)\n",
    "    region_of_interest_image= cv2.bitwise_and(image, region_of_interest)\n",
    "    return region_of_interest_image\n",
    "\n",
    "def detect_edges(image):\n",
    "    edges = cv2.Canny(image,100,200,3)\n",
    "    return edges\n",
    "\n",
    "def binarize(image):\n",
    "    th, im_th = cv2.threshold(image, 50, 250, cv2.THRESH_BINARY+cv2.THRESH_OTSU)\n",
    "    return im_th\n",
    "\n",
    "def gaussian_blur(gray):\n",
    "    blur = cv2.GaussianBlur(gray, (7,7), sigmaX=33, sigmaY=33)\n",
    "    return blur\n",
    "\n",
    "def dilate(image):\n",
    "    kernel = np.ones((5,5),np.uint8)\n",
    "    dilation = cv2.dilate(image,kernel,iterations = 3)\n",
    "    return dilation\n",
    "\n",
    "#check if point is in a contour\n",
    "def point_in_rect(point,rect):\n",
    "    x1, y1, w, h = rect\n",
    "    x2, y2 = x1+w, y1+h\n",
    "    x, y = point\n",
    "    if (x1 < x and x < x2):\n",
    "        if (y1 < y and y < y2):\n",
    "            return True\n",
    "    return False\n",
    "\n",
    "\n",
    "def get_contour(image, im, n, results):\n",
    "    contours, hierarchy  = cv2.findContours(image.copy(), cv2.RETR_EXTERNAL, cv2.CHAIN_APPROX_SIMPLE)\n",
    "    img = cv2.drawContours(im, contours, -1, (0,255,75), 2)\n",
    "    contoure = 0\n",
    "\n",
    "    for contour in contours:\n",
    "        (x, y, w, h) = cv2.boundingRect(contour)\n",
    "        #this is to get rid of the countour that it bounding the region of interest\n",
    "        if w<1920:\n",
    "            im= cv2.rectangle(im, (x, y), (x + w, y + h), (0, 0, 255), 2)\n",
    "            for i in coord:\n",
    "                if point_in_rect(i, (x, y, w, h)):\n",
    "                    contoure +=1\n",
    "\n",
    "    #get the true positives if the countour actually has a point in it\n",
    "    true_pos.append(contoure)\n",
    "    # 1 is subtracted beacuse of the contour that spans the entire width of the image\n",
    "    number_of_people_in_image= len(contours)-1\n",
    "    #getting the estimated count\n",
    "    y_pred.append(number_of_people_in_image)\n",
    "    #Please uncomment the line below to visualize the contours in each image\n",
    "#     cv2.imshow('contour'+str(n),im)\n",
    "\n",
    "#To save the files, uncomment the line below\n",
    "    #cv2.imwrite(results+str(n), im)\n"
   ]
  },
  {
   "cell_type": "markdown",
   "metadata": {},
   "source": [
    "### Algorithm"
   ]
  },
  {
   "cell_type": "code",
   "execution_count": null,
   "metadata": {},
   "outputs": [],
   "source": [
    "#Initialize\n",
    "y_pred = []\n",
    "y_true = []\n",
    "true_pos = []\n",
    "for i in ground_truth['people']:\n",
    "    y_true.append(i)\n",
    "    \n",
    "for i in ground_truth['filename']:\n",
    "    coord = []\n",
    "    df2=df.loc[df['filename'] == i]\n",
    "    for index, row in df2.iterrows():\n",
    "        coord.append((row['x'], row['y']))\n",
    "    im = cv2.imread(path+i)\n",
    "    #defining the region of interest\n",
    "    ROI = get_region_of_interest(im)\n",
    "    #grayscale the image\n",
    "    gray = cv2.cvtColor(ROI, cv2.COLOR_BGR2GRAY)\n",
    "    #smoothening\n",
    "    blur = gaussian_blur(gray)\n",
    "    #binarization\n",
    "    im_th = binarize(blur)\n",
    "    #edge detection\n",
    "    edges = detect_edges(im_th)\n",
    "    #Dilation\n",
    "    dilated = dilate(edges)\n",
    "    #Count people in the image\n",
    "    get_contour(dilated, im, i, results)\n",
    "\n",
    "#Please uncomment the lines below to visualize the contours in each image\n",
    "# cv2.waitKey(0) \n",
    "# cv2.destroyAllWindows()\n",
    "\n",
    "\n"
   ]
  },
  {
   "cell_type": "markdown",
   "metadata": {},
   "source": [
    "### Validation"
   ]
  },
  {
   "cell_type": "code",
   "execution_count": null,
   "metadata": {},
   "outputs": [],
   "source": [
    "y_pred, true_pos, y_true"
   ]
  },
  {
   "cell_type": "code",
   "execution_count": null,
   "metadata": {},
   "outputs": [],
   "source": [
    "mean_squared_error(y_true, y_pred)"
   ]
  },
  {
   "cell_type": "code",
   "execution_count": null,
   "metadata": {},
   "outputs": [],
   "source": [
    "#Visualize the actual vs predicted number of people\n",
    "fig, ax = plt.subplots()\n",
    "\n",
    "ax.plot(y_true, color = 'green', label = 'Actual')\n",
    "ax.plot(y_pred, color = 'red', label = 'Predicted')\n",
    "ax.legend(loc = 'upper left')\n",
    "ax.set_xlabel('image index')\n",
    "ax.set_ylabel('count')\n",
    "plt.show()"
   ]
  }
 ],
 "metadata": {
  "kernelspec": {
   "display_name": "Python 3 (ipykernel)",
   "language": "python",
   "name": "python3"
  },
  "language_info": {
   "codemirror_mode": {
    "name": "ipython",
    "version": 3
   },
   "file_extension": ".py",
   "mimetype": "text/x-python",
   "name": "python",
   "nbconvert_exporter": "python",
   "pygments_lexer": "ipython3",
   "version": "3.9.13"
  }
 },
 "nbformat": 4,
 "nbformat_minor": 1
}
